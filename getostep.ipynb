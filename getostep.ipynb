{
 "cells": [
  {
   "cell_type": "markdown",
   "metadata": {},
   "source": [
    "# GET OSTEP\n",
    "\n",
    "Fetch the textbook [**Operating Systems: Three Easy Pieces**](https://pages.cs.wisc.edu/~remzi/OSTEP/) chapter by chapter and generate a single pdf of it with detailed bookmarks.\n",
    "\n",
    "Run every cell of this notebook to get a copy."
   ]
  },
  {
   "cell_type": "code",
   "execution_count": 1,
   "metadata": {},
   "outputs": [],
   "source": [
    "import requests\n",
    "from bs4 import BeautifulSoup\n",
    "\n",
    "url = \"https://pages.cs.wisc.edu/~remzi/OSTEP/\"\n",
    "res = requests.get(url)"
   ]
  },
  {
   "cell_type": "code",
   "execution_count": 2,
   "metadata": {},
   "outputs": [
    {
     "name": "stdout",
     "output_type": "stream",
     "text": [
      "[('01', 'dialogue-threeeasy.pdf'), ('02', 'intro.pdf'), ('03', 'dialogue-virtualization.pdf'), ('04', 'cpu-intro.pdf'), ('05', 'cpu-api.pdf'), ('06', 'cpu-mechanisms.pdf'), ('07', 'cpu-sched.pdf'), ('08', 'cpu-sched-mlfq.pdf'), ('09', 'cpu-sched-lottery.pdf'), ('10', 'cpu-sched-multi.pdf'), ('11', 'cpu-dialogue.pdf'), ('12', 'dialogue-vm.pdf'), ('13', 'vm-intro.pdf'), ('14', 'vm-api.pdf'), ('15', 'vm-mechanism.pdf'), ('16', 'vm-segmentation.pdf'), ('17', 'vm-freespace.pdf'), ('18', 'vm-paging.pdf'), ('19', 'vm-tlbs.pdf'), ('20', 'vm-smalltables.pdf'), ('21', 'vm-beyondphys.pdf'), ('22', 'vm-beyondphys-policy.pdf'), ('23', 'vm-complete.pdf'), ('24', 'vm-dialogue.pdf'), ('25', 'dialogue-concurrency.pdf'), ('26', 'threads-intro.pdf'), ('27', 'threads-api.pdf'), ('28', 'threads-locks.pdf'), ('29', 'threads-locks-usage.pdf'), ('30', 'threads-cv.pdf'), ('31', 'threads-sema.pdf'), ('32', 'threads-bugs.pdf'), ('33', 'threads-events.pdf'), ('34', 'threads-dialogue.pdf'), ('35', 'dialogue-persistence.pdf'), ('36', 'file-devices.pdf'), ('37', 'file-disks.pdf'), ('38', 'file-raid.pdf'), ('39', 'file-intro.pdf'), ('40', 'file-implementation.pdf'), ('41', 'file-ffs.pdf'), ('42', 'file-journaling.pdf'), ('43', 'file-lfs.pdf'), ('44', 'file-ssd.pdf'), ('45', 'file-integrity.pdf'), ('46', 'file-dialogue.pdf'), ('47', 'dialogue-distribution.pdf'), ('48', 'dist-intro.pdf'), ('49', 'dist-nfs.pdf'), ('50', 'dist-afs.pdf'), ('51', 'dist-dialogue.pdf'), ('52', 'dialogue-security.pdf'), ('53', 'security-intro.pdf'), ('54', 'security-authentication.pdf'), ('55', 'security-access.pdf'), ('56', 'security-crypto.pdf'), ('57', 'security-distributed.pdf')]\n"
     ]
    }
   ],
   "source": [
    "bs = BeautifulSoup(res.text)\n",
    "\n",
    "chapters = {}\n",
    "\n",
    "for unit in bs.find_all('td', bgcolor=True):\n",
    "    idx_tag = unit.find('small')\n",
    "    if not idx_tag: continue\n",
    "    fname = unit.find('a').get('href')\n",
    "    if not fname: continue\n",
    "    chapters[('0'+idx_tag.text)[-2:]] = fname\n",
    "\n",
    "chapter_list = []\n",
    "for i, nm in chapters.items():\n",
    "    chapter_list.append((i, nm))\n",
    "chapter_list.sort()\n",
    "print(chapter_list)"
   ]
  },
  {
   "cell_type": "code",
   "execution_count": 3,
   "metadata": {},
   "outputs": [],
   "source": [
    "def getfile(src, dst):\n",
    "    while True:\n",
    "        try:\n",
    "            rf = requests.get(src)\n",
    "            with open(dst, \"wb\") as f:\n",
    "                f.write(rf.content)\n",
    "            break\n",
    "        except:\n",
    "            continue"
   ]
  },
  {
   "cell_type": "code",
   "execution_count": 4,
   "metadata": {},
   "outputs": [],
   "source": [
    "# get every chapter\n",
    "import os\n",
    "\n",
    "subdir = \"ostep_chapters\"\n",
    "if not os.path.exists(os.path.join(os.curdir, subdir)):\n",
    "    os.mkdir(os.path.join(os.curdir, subdir))\n",
    "\n",
    "for i, nm in chapters.items():\n",
    "    tgt = os.path.join(os.curdir, subdir, f\"{i}{nm}\")\n",
    "    if os.path.exists(tgt): continue\n",
    "    getfile(url + nm, tgt)"
   ]
  },
  {
   "cell_type": "code",
   "execution_count": 5,
   "metadata": {},
   "outputs": [],
   "source": [
    "# merge chapters to topics\n",
    "from pypdf import PdfWriter\n",
    "\n",
    "topics = [(\"Virtualization\", 3, 25), (\"Concurrency\", 25, 35), (\"Persistence\", 35, 52), (\"Security\", 52, 58)]\n",
    "tpcdir = \"ostep_topics\"\n",
    "if not os.path.exists(os.path.join(os.curdir, tpcdir)):\n",
    "    os.mkdir(os.path.join(os.curdir, tpcdir))\n",
    "\n",
    "for tname, begin, end in topics:\n",
    "    merger = PdfWriter()\n",
    "    for i, nm in chapter_list[begin-1:end-1]:\n",
    "        merger.append(os.path.join(subdir, i + nm), outline_item=f\"{i} {nm[:-4]}\")\n",
    "    merger.write(os.path.join(tpcdir, f\"{tname}.pdf\"))"
   ]
  },
  {
   "cell_type": "code",
   "execution_count": 6,
   "metadata": {},
   "outputs": [],
   "source": [
    "# get preface and toc\n",
    "preface, toc = \"preface.pdf\", \"toc.pdf\"\n",
    "ptgt = os.path.join(os.curdir, subdir, f\"00{preface}\")\n",
    "if not os.path.exists(ptgt):\n",
    "    getfile(url + preface, ptgt)\n",
    "ttgt = os.path.join(os.curdir, subdir, f\"00{toc}\")\n",
    "if not os.path.exists(ttgt):\n",
    "    getfile(url + toc, ttgt)"
   ]
  },
  {
   "cell_type": "code",
   "execution_count": 7,
   "metadata": {},
   "outputs": [
    {
     "data": {
      "text/plain": [
       "(True, <_io.FileIO [closed]>)"
      ]
     },
     "execution_count": 7,
     "metadata": {},
     "output_type": "execute_result"
    }
   ],
   "source": [
    "merger = PdfWriter()\n",
    "merger.append(os.path.join(subdir, f\"00{preface}\"), outline_item=preface[:-4].capitalize())\n",
    "merger.append(os.path.join(subdir, f\"00{toc}\"), outline_item=toc[:-4].upper())\n",
    "# the first 2 chapters\n",
    "for j in range(2):\n",
    "    i, nm = chapter_list[j]\n",
    "    merger.append(os.path.join(subdir, i + nm), outline_item=f\"{i} {nm[:-4]}\")\n",
    "for tname, _, _ in topics:\n",
    "    merger.append(os.path.join(tpcdir, f\"{tname}.pdf\"), outline_item=tname, import_outline=True)\n",
    "merger.write(\"ostep_.pdf\")"
   ]
  },
  {
   "cell_type": "code",
   "execution_count": 8,
   "metadata": {},
   "outputs": [
    {
     "name": "stdout",
     "output_type": "stream",
     "text": [
      "['dialogue-vmm.pdf', 'vmm-intro.pdf', 'dialogue-monitors.pdf', 'threads-monitors.pdf', 'dialogue-labs.pdf', 'lab-tutorial.pdf', 'lab-projects-systems.pdf', 'lab-projects-xv6.pdf']\n"
     ]
    }
   ],
   "source": [
    "# appendices\n",
    "got = set(chapters.values())\n",
    "got.add(preface)\n",
    "got.add(toc)\n",
    "\n",
    "appdir = \"ostep_appendices\"\n",
    "if not os.path.exists(os.path.join(os.curdir, appdir)):\n",
    "    os.mkdir(os.path.join(os.curdir, appdir))\n",
    "\n",
    "appendices = []\n",
    "for link_tag in bs.find_all('a', href=True):\n",
    "    link = link_tag.get('href')\n",
    "    if \".pdf\" in link and link not in got:\n",
    "        appendices.append(link)\n",
    "        tgt = os.path.join(appdir, link)\n",
    "        if os.path.exists(tgt): continue\n",
    "        getfile(url + link, tgt)\n",
    "print(appendices)"
   ]
  },
  {
   "cell_type": "code",
   "execution_count": 9,
   "metadata": {},
   "outputs": [
    {
     "data": {
      "text/plain": [
       "(True, <_io.FileIO [closed]>)"
      ]
     },
     "execution_count": 9,
     "metadata": {},
     "output_type": "execute_result"
    }
   ],
   "source": [
    "# merge appendices\n",
    "merger = PdfWriter()\n",
    "for a in appendices:\n",
    "    merger.append(os.path.join(appdir, a), outline_item=a[:-4])\n",
    "merger.write(\"Appendex.pdf\")"
   ]
  },
  {
   "cell_type": "code",
   "execution_count": 10,
   "metadata": {},
   "outputs": [
    {
     "data": {
      "text/plain": [
       "(True, <_io.FileIO [closed]>)"
      ]
     },
     "execution_count": 10,
     "metadata": {},
     "output_type": "execute_result"
    }
   ],
   "source": [
    "merger = PdfWriter()\n",
    "merger.append(\"ostep_.pdf\", import_outline=True)\n",
    "merger.append(\"Appendex.pdf\", outline_item=\"Appendex\")\n",
    "merger.write(\"OSTEP.pdf\")"
   ]
  },
  {
   "cell_type": "code",
   "execution_count": 11,
   "metadata": {},
   "outputs": [],
   "source": [
    "# clean\n",
    "import shutil\n",
    "\n",
    "def safe_rm(fname):\n",
    "    if os.path.exists(fname):\n",
    "        try:\n",
    "            os.remove(fname)\n",
    "        except:\n",
    "            shutil.rmtree(fname)\n",
    "\n",
    "safe_rm(subdir) # comment this line if you would also like to have the single-chapter pdfs\n",
    "safe_rm(tpcdir)\n",
    "safe_rm(appdir)\n",
    "safe_rm(\"ostep_.pdf\")\n",
    "safe_rm(\"Appendex.pdf\")"
   ]
  },
  {
   "cell_type": "code",
   "execution_count": null,
   "metadata": {},
   "outputs": [],
   "source": []
  }
 ],
 "metadata": {
  "kernelspec": {
   "display_name": "base",
   "language": "python",
   "name": "python3"
  },
  "language_info": {
   "codemirror_mode": {
    "name": "ipython",
    "version": 3
   },
   "file_extension": ".py",
   "mimetype": "text/x-python",
   "name": "python",
   "nbconvert_exporter": "python",
   "pygments_lexer": "ipython3",
   "version": "3.9.19"
  }
 },
 "nbformat": 4,
 "nbformat_minor": 2
}
